{
 "cells": [
  {
   "cell_type": "markdown",
   "metadata": {},
   "source": [
    "## This is a short example of Tensorflow and Keras on the MNIST dataset\n",
    "\n",
    "You can find most of this example (excluding the image comparisons) on the beginner quickstart tensorflow site: https://www.tensorflow.org/tutorials/quickstart/beginner.  "
   ]
  },
  {
   "cell_type": "code",
   "execution_count": 10,
   "metadata": {},
   "outputs": [],
   "source": [
    "# front matter\n",
    "import tensorflow as tf\n",
    "import matplotlib.pyplot as plt\n",
    "import numpy as np\n",
    "\n",
    "tf.keras.backend.set_floatx('float64')\n",
    "%matplotlib inline"
   ]
  },
  {
   "cell_type": "code",
   "execution_count": 11,
   "metadata": {},
   "outputs": [],
   "source": [
    "# load MNIST\n",
    "mnist = tf.keras.datasets.mnist\n",
    "\n",
    "(x_train_raw, y_train_raw), (x_test_raw, y_test_raw) = mnist.load_data()\n",
    "x_train, x_test = x_train_raw / 255.0, x_test_raw / 255.0"
   ]
  },
  {
   "cell_type": "code",
   "execution_count": 12,
   "metadata": {},
   "outputs": [
    {
     "data": {
      "text/plain": [
       "60000"
      ]
     },
     "execution_count": 12,
     "metadata": {},
     "output_type": "execute_result"
    }
   ],
   "source": [
    "len(x_train)"
   ]
  },
  {
   "cell_type": "markdown",
   "metadata": {},
   "source": [
    "## Let's view some test data"
   ]
  },
  {
   "cell_type": "code",
   "execution_count": 14,
   "metadata": {},
   "outputs": [
    {
     "data": {
      "image/png": "[encoded data removed]",
      "text/plain": [
       "<Figure size 432x288 with 1 Axes>"
      ]
     },
     "metadata": {
      "needs_background": "light"
     },
     "output_type": "display_data"
    },
    {
     "data": {
      "image/png": "[encoded data removed]",
      "text/plain": [
       "<Figure size 432x288 with 1 Axes>"
      ]
     },
     "metadata": {
      "needs_background": "light"
     },
     "output_type": "display_data"
    },
    {
     "data": {
      "image/png": "[encoded data removed]",
      "text/plain": [
       "<Figure size 432x288 with 1 Axes>"
      ]
     },
     "metadata": {
      "needs_background": "light"
     },
     "output_type": "display_data"
    },
    {
     "data": {
      "image/png": "[encoded data removed]",
      "text/plain": [
       "<Figure size 432x288 with 1 Axes>"
      ]
     },
     "metadata": {
      "needs_background": "light"
     },
     "output_type": "display_data"
    },
    {
     "data": {
      "image/png": "[encoded data removed]",
      "text/plain": [
       "<Figure size 432x288 with 1 Axes>"
      ]
     },
     "metadata": {
      "needs_background": "light"
     },
     "output_type": "display_data"
    }
   ],
   "source": [
    "for i in range(1,6):\n",
    "        \n",
    "    one_image = x_test_raw[i-1:i].reshape(28,28)\n",
    "\n",
    "    plt.imshow(one_image)\n",
    "    plt.savefig('test_data_img_{}.png'.format(i), bbox_inches = 'tight')\n",
    "    plt.show()"
   ]
  },
  {
   "cell_type": "markdown",
   "metadata": {},
   "source": [
    "## Let's build the model from neural network layers"
   ]
  },
  {
   "cell_type": "code",
   "execution_count": 15,
   "metadata": {},
   "outputs": [],
   "source": [
    "model = tf.keras.models.Sequential([\n",
    "  tf.keras.layers.Flatten(input_shape=(28, 28)),\n",
    "  tf.keras.layers.Dense(128, activation='relu'),\n",
    "  tf.keras.layers.Dropout(0.2),\n",
    "  tf.keras.layers.Dense(10)\n",
    "])"
   ]
  },
  {
   "cell_type": "markdown",
   "metadata": {},
   "source": [
    "## What does our model think those images are?"
   ]
  },
  {
   "cell_type": "code",
   "execution_count": 8,
   "metadata": {},
   "outputs": [],
   "source": [
    "# Can convert log probs to probs\n",
    "# tf.nn.softmax(predictions).numpy()"
   ]
  },
  {
   "cell_type": "code",
   "execution_count": 16,
   "metadata": {},
   "outputs": [
    {
     "name": "stdout",
     "output_type": "stream",
     "text": [
      "9\n",
      "0\n",
      "0\n",
      "0\n",
      "0\n"
     ]
    }
   ],
   "source": [
    "#un-trained model predictions for images of 7, 2, 1, 0 and 4\n",
    "predictions = model(x_test_raw[:5]).numpy()\n",
    "\n",
    "for i in range(len(predictions)):\n",
    "    print(np.argmax(predictions[i]))"
   ]
  },
  {
   "cell_type": "markdown",
   "metadata": {},
   "source": [
    "## Let's compile and train the model"
   ]
  },
  {
   "cell_type": "code",
   "execution_count": 17,
   "metadata": {},
   "outputs": [],
   "source": [
    "loss_fn = tf.keras.losses.SparseCategoricalCrossentropy(from_logits=True)\n",
    "# loss_fn(y_train_raw[:1], predictions[:1]).numpy()"
   ]
  },
  {
   "cell_type": "code",
   "execution_count": 18,
   "metadata": {},
   "outputs": [],
   "source": [
    "model.compile(optimizer='adam',\n",
    "              loss=loss_fn,\n",
    "              metrics=['accuracy'])"
   ]
  },
  {
   "cell_type": "code",
   "execution_count": 19,
   "metadata": {},
   "outputs": [
    {
     "name": "stdout",
     "output_type": "stream",
     "text": [
      "Train on 60000 samples\n",
      "Epoch 1/5\n",
      "60000/60000 [==============================] - 13s 218us/sample - loss: 0.2938 - accuracy: 0.9147\n",
      "Epoch 2/5\n",
      "60000/60000 [==============================] - 15s 257us/sample - loss: 0.1428 - accuracy: 0.9573\n",
      "Epoch 3/5\n",
      "60000/60000 [==============================] - 18s 304us/sample - loss: 0.1050 - accuracy: 0.9680\n",
      "Epoch 4/5\n",
      "60000/60000 [==============================] - 21s 353us/sample - loss: 0.0868 - accuracy: 0.9735\n",
      "Epoch 5/5\n",
      "60000/60000 [==============================] - 18s 301us/sample - loss: 0.0739 - accuracy: 0.9766\n"
     ]
    },
    {
     "data": {
      "text/plain": [
       "<tensorflow.python.keras.callbacks.History at 0x2b4b3ed9588>"
      ]
     },
     "execution_count": 19,
     "metadata": {},
     "output_type": "execute_result"
    }
   ],
   "source": [
    "model.fit(x_train, y_train_raw, epochs=5)"
   ]
  },
  {
   "cell_type": "markdown",
   "metadata": {},
   "source": [
    "## Let's evaluate the model. Are our predictions better?"
   ]
  },
  {
   "cell_type": "code",
   "execution_count": 20,
   "metadata": {},
   "outputs": [
    {
     "name": "stdout",
     "output_type": "stream",
     "text": [
      "10000/1 - 1s - loss: 0.0409 - accuracy: 0.9779\n"
     ]
    },
    {
     "data": {
      "text/plain": [
       "[0.07731430959939632, 0.9779]"
      ]
     },
     "execution_count": 20,
     "metadata": {},
     "output_type": "execute_result"
    }
   ],
   "source": [
    "model.evaluate(x_test,  y_test_raw, verbose=2)"
   ]
  },
  {
   "cell_type": "code",
   "execution_count": 21,
   "metadata": {},
   "outputs": [
    {
     "name": "stdout",
     "output_type": "stream",
     "text": [
      "7\n",
      "2\n",
      "1\n",
      "0\n",
      "4\n"
     ]
    }
   ],
   "source": [
    "# Grab the first five predictions arrays, from above\n",
    "predictions_test = model(x_test[:5]).numpy()\n",
    "\n",
    "# For each array of predictions (note each prediction is an array of log probabilities), print the index of the highest, which is the model's output\n",
    "for i in range(len(predictions_test)):\n",
    "    print(np.argmax(predictions_test[i]))"
   ]
  },
  {
   "cell_type": "code",
   "execution_count": 22,
   "metadata": {},
   "outputs": [],
   "source": [
    "predictions_full = model(x_test).numpy()"
   ]
  },
  {
   "cell_type": "code",
   "execution_count": 23,
   "metadata": {},
   "outputs": [],
   "source": [
    "# Convert the full predictionsarrays  to an array of numbers predicted\n",
    "model_choice = []\n",
    "for i in predictions_full:\n",
    "    model_choice.append(np.argmax(i))"
   ]
  },
  {
   "cell_type": "markdown",
   "metadata": {},
   "source": [
    "## What did our model get wrong?"
   ]
  },
  {
   "cell_type": "code",
   "execution_count": 24,
   "metadata": {},
   "outputs": [],
   "source": [
    "# A quick loop to check (and print) the number of digits classified incorrectly\n",
    "\n",
    "output = []\n",
    "\n",
    "for a, b in zip(y_test_raw, model_choice):\n",
    "    \n",
    "    if a != b:\n",
    "        output.append(1)\n",
    "    else:\n",
    "        output.append(0)\n",
    "        \n",
    "print(sum(np.array(output)),' numbers were classified incorrectly, which is around ',round((207/10000)*100,ndigits=0),' per cent of the data.', sep = '')"
   ]
  },
  {
   "cell_type": "code",
   "execution_count": 26,
   "metadata": {
    "collapsed": true,
    "jupyter": {
     "outputs_hidden": true
    }
   },
   "outputs": [
    {
     "data": {
      "text/plain": [
       "(array([ 115,  247,  259,  274,  290,  320,  321,  340,  359,  381,  445,\n",
       "         449,  495,  582,  583,  659,  684,  691,  720,  740,  810,  882,\n",
       "         947,  951,  956,  965, 1014, 1039, 1112, 1178, 1181, 1182, 1226,\n",
       "        1232, 1247, 1260, 1299, 1319, 1328, 1364, 1393, 1395, 1414, 1500,\n",
       "        1522, 1527, 1530, 1549, 1553, 1554, 1597, 1609, 1681, 1709, 1717,\n",
       "        1751, 1754, 1790, 1850, 1878, 1901, 1941, 2004, 2016, 2044, 2053,\n",
       "        2093, 2098, 2109, 2118, 2129, 2135, 2182, 2185, 2266, 2272, 2291,\n",
       "        2293, 2329, 2387, 2395, 2414, 2462, 2488, 2648, 2654, 2720, 2877,\n",
       "        2896, 2921, 2927, 2939, 2953, 2995, 3005, 3060, 3073, 3117, 3130,\n",
       "        3284, 3289, 3369, 3422, 3475, 3503, 3520, 3558, 3559, 3567, 3597,\n",
       "        3604, 3674, 3681, 3727, 3751, 3757, 3780, 3811, 3818, 3850, 3853,\n",
       "        3869, 3893, 3906, 3926, 3941, 3943, 3951, 3976, 3985, 4000, 4065,\n",
       "        4075, 4078, 4093, 4176, 4224, 4248, 4289, 4294, 4306, 4314, 4355,\n",
       "        4369, 4380, 4425, 4437, 4443, 4497, 4500, 4536, 4575, 4601, 4731,\n",
       "        4807, 4823, 4880, 4956, 4978, 5138, 5210, 5331, 5457, 5495, 5642,\n",
       "        5734, 5749, 5887, 5937, 5955, 5973, 6011, 6045, 6059, 6166, 6421,\n",
       "        6505, 6555, 6571, 6574, 6597, 6598, 6608, 6625, 6641, 6651, 6755,\n",
       "        6783, 6817, 6847, 7921, 8020, 8246, 8325, 8339, 8408, 8410, 8522,\n",
       "        9009, 9015, 9019, 9024, 9253, 9280, 9422, 9587, 9634, 9664, 9679,\n",
       "        9700, 9729, 9745, 9749, 9768, 9770, 9779, 9792, 9808, 9839, 9888,\n",
       "        9982], dtype=int64),)"
      ]
     },
     "execution_count": 26,
     "metadata": {},
     "output_type": "execute_result"
    }
   ],
   "source": [
    "# pulling out an array of the index position of the incorrectly classified digits\n",
    "\n",
    "wrong_class = np.where(np.array(output) == 1)\n",
    "wrong_class"
   ]
  },
  {
   "cell_type": "code",
   "execution_count": 30,
   "metadata": {},
   "outputs": [
    {
     "data": {
      "image/png": "[encoded data removed]",
      "text/plain": [
       "<Figure size 432x288 with 1 Axes>"
      ]
     },
     "metadata": {
      "needs_background": "light"
     },
     "output_type": "display_data"
    },
    {
     "data": {
      "image/png": "[encoded data removed]",
      "text/plain": [
       "<Figure size 432x288 with 1 Axes>"
      ]
     },
     "metadata": {
      "needs_background": "light"
     },
     "output_type": "display_data"
    },
    {
     "data": {
      "image/png": "[encoded data removed]",
      "text/plain": [
       "<Figure size 432x288 with 1 Axes>"
      ]
     },
     "metadata": {
      "needs_background": "light"
     },
     "output_type": "display_data"
    },
    {
     "data": {
      "image/png": "[encoded data removed]",
      "text/plain": [
       "<Figure size 432x288 with 1 Axes>"
      ]
     },
     "metadata": {
      "needs_background": "light"
     },
     "output_type": "display_data"
    },
    {
     "data": {
      "image/png": "[encoded data removed]",
      "text/plain": [
       "<Figure size 432x288 with 1 Axes>"
      ]
     },
     "metadata": {
      "needs_background": "light"
     },
     "output_type": "display_data"
    },
    {
     "data": {
      "image/png": "[encoded data removed]",
      "text/plain": [
       "<Figure size 432x288 with 1 Axes>"
      ]
     },
     "metadata": {
      "needs_background": "light"
     },
     "output_type": "display_data"
    }
   ],
   "source": [
    "# For a specified selection of wrongly classified digits, show and save the image\n",
    "\n",
    "wrong_class_subset = [247,259,321,340,381,445]\n",
    "\n",
    "for i in wrong_class_subset:\n",
    "        \n",
    "    one_image = x_test_raw[i:i+1].reshape(28,28)\n",
    "\n",
    "    plt.imshow(one_image)\n",
    "    plt.savefig('mnist_post_classification_fail_img_{}.png'.format(i), bbox_inches = 'tight')\n",
    "    plt.show()"
   ]
  },
  {
   "cell_type": "markdown",
   "metadata": {},
   "source": [
    "## What are these numbers according to our true data?"
   ]
  },
  {
   "cell_type": "code",
   "execution_count": 28,
   "metadata": {},
   "outputs": [
    {
     "name": "stdout",
     "output_type": "stream",
     "text": [
      "4\n",
      "6\n",
      "2\n",
      "5\n",
      "3\n",
      "6\n"
     ]
    }
   ],
   "source": [
    "for i in wrong_class_subset:\n",
    "    print(y_test_raw[i])"
   ]
  },
  {
   "cell_type": "markdown",
   "metadata": {},
   "source": [
    "## What does our model think these numbers are?"
   ]
  },
  {
   "cell_type": "code",
   "execution_count": 29,
   "metadata": {},
   "outputs": [
    {
     "name": "stdout",
     "output_type": "stream",
     "text": [
      "2\n",
      "0\n",
      "7\n",
      "3\n",
      "7\n",
      "0\n"
     ]
    }
   ],
   "source": [
    "for i in wrong_class_subset:\n",
    "    print(model_choice[i])"
   ]
  },
  {
   "cell_type": "code",
   "execution_count": null,
   "metadata": {},
   "outputs": [],
   "source": []
  }
 ],
 "metadata": {
  "kernelspec": {
   "display_name": "Python 3",
   "language": "python",
   "name": "python3"
  },
  "language_info": {
   "codemirror_mode": {
    "name": "ipython",
    "version": 3
   },
   "file_extension": ".py",
   "mimetype": "text/x-python",
   "name": "python",
   "nbconvert_exporter": "python",
   "pygments_lexer": "ipython3",
   "version": "3.7.3"
  }
 },
 "nbformat": 4,
 "nbformat_minor": 4
}
